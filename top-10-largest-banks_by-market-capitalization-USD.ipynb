{
 "cells": [
  {
   "cell_type": "markdown",
   "id": "9a9a1465",
   "metadata": {},
   "source": [
    "# Scrapping data for the top 10 largest bank"
   ]
  },
  {
   "cell_type": "markdown",
   "id": "37282bf3",
   "metadata": {},
   "source": [
    "### import requirement"
   ]
  },
  {
   "cell_type": "code",
   "execution_count": null,
   "id": "c4c76a60",
   "metadata": {},
   "outputs": [],
   "source": [
    "import pandas as pd\n",
    "from bs4 import BeautifulSoup\n",
    "import requests as req\n",
    "from datetime import datetime "
   ]
  },
  {
   "cell_type": "markdown",
   "id": "cf0fc790",
   "metadata": {},
   "source": [
    "### log function that write in a log text file "
   ]
  },
  {
   "cell_type": "code",
   "execution_count": 144,
   "id": "37b96ab9",
   "metadata": {},
   "outputs": [],
   "source": [
    "def log_progress(txt):\n",
    "    now = datetime.now()\n",
    "    with open('code_log.txt ' ,'a') as f:\n",
    "        f.write(str(now)+' : '+txt+'\\n')\n",
    " "
   ]
  },
  {
   "cell_type": "markdown",
   "id": "8be12b80",
   "metadata": {},
   "source": [
    "### extract function that scrap data from a website and store it in a dataframe"
   ]
  },
  {
   "cell_type": "code",
   "execution_count": 144,
   "id": "214eaa66",
   "metadata": {},
   "outputs": [],
   "source": [
    "def extract():\n",
    "    l=[]\n",
    "    #url= 'https://en.wikipedia.org/wiki/List_of_largest_banks'\n",
    "    url = 'https://web.archive.org/web/20230908091635/https://en.wikipedia.org/wiki/List_of_largest_banks'\n",
    "    content = req.get(url)\n",
    "\n",
    "    tree = BeautifulSoup(content.content , 'html.parser')\n",
    "    table = tree.find('tbody')\n",
    "    lines = table.find_all('tr')[1:]\n",
    "    cols = []\n",
    "    for line in lines:\n",
    "        cols.append([td.get_text(strip=True) for td in line.find_all('td')])\n",
    "    df = pd.DataFrame(cols , columns=['Rank' , 'Bank name' , 'Market cap $'])\n",
    "    df['Rank'] = df['Rank'].transform(lambda x : int(x))\n",
    "    df['Market cap $'] = df['Market cap $'].transform(lambda x: float(x))\n",
    "    return df\n",
    "    "
   ]
  },
  {
   "cell_type": "markdown",
   "id": "598aab1c",
   "metadata": {},
   "source": [
    "### transform function that add 3 column for echange based on a csv file"
   ]
  },
  {
   "cell_type": "code",
   "execution_count": 145,
   "id": "2ece4af1",
   "metadata": {},
   "outputs": [],
   "source": [
    "#Market Capitalization in GBP, EUR and INR\n",
    "exch = pd.read_csv('exchange_rate.csv' , index_col =0)\n",
    "rateEUR = exch.loc['EUR',:]\n",
    "rateGBP = exch.loc['GBP',:]\n",
    "rateINR = exch.loc['INR',:]\n",
    "def transform(df):\n",
    "    df['Market cap in GBP'] = df['Market cap $'].transform(lambda x : round(x*rateGBP,2))\n",
    "    df['Market cap in EUR'] = df['Market cap $'].transform(lambda x : round(x*rateEUR,2))\n",
    "    df['Market cap in INR'] = df['Market cap $'].transform(lambda x : round(x*rateINR,2))\n",
    "    return df"
   ]
  },
  {
   "cell_type": "markdown",
   "id": "0dfca5f0",
   "metadata": {},
   "source": [
    "### load to csv function"
   ]
  },
  {
   "cell_type": "code",
   "execution_count": 146,
   "id": "68c73e17",
   "metadata": {},
   "outputs": [],
   "source": [
    "def load_to_csv(df):\n",
    "    df.to_csv('./Largest_banks_data.csv' , index=False)\n",
    "    \n"
   ]
  },
  {
   "cell_type": "markdown",
   "id": "6b57e50f",
   "metadata": {},
   "source": [
    "### load to data base function"
   ]
  },
  {
   "cell_type": "code",
   "execution_count": 147,
   "id": "93714886",
   "metadata": {},
   "outputs": [],
   "source": [
    "#Banks.db-Largest_banks\n",
    "import sqlite3 as sql\n",
    "def load_to_db(df):\n",
    "    \n",
    "    df.to_sql(name='Largest_banks' , index=False , con=conn , if_exists='replace')\n",
    "    "
   ]
  },
  {
   "cell_type": "markdown",
   "id": "d3b4500f",
   "metadata": {},
   "source": [
    "### run query function "
   ]
  },
  {
   "cell_type": "code",
   "execution_count": 148,
   "id": "23710fe2",
   "metadata": {},
   "outputs": [],
   "source": [
    "def run_query(query_statement, sql_connection):\n",
    "    dic ={}\n",
    "    cur = sql_connection.cursor()\n",
    "    res = cur.execute(query_statement).fetchall()\n",
    "    cur.close()\n",
    "    for b in res:\n",
    "        dic[b[0]]=b[1]\n",
    "    return dic"
   ]
  },
  {
   "cell_type": "markdown",
   "id": "a19db454",
   "metadata": {},
   "source": [
    "### Main"
   ]
  },
  {
   "cell_type": "code",
   "execution_count": 149,
   "id": "9b6aebe7",
   "metadata": {},
   "outputs": [],
   "source": [
    "conn = sql.connect('Banks.db')\n",
    "log_progress('_____--START--_____')\n",
    "log_progress('Start Extracting')\n",
    "df = extract()\n",
    "log_progress('End Extracting')\n",
    "log_progress('Start Transformation')\n",
    "transform(df)\n",
    "log_progress('End Transformation')\n",
    "log_progress('Load to csv')\n",
    "load_to_csv(df)\n",
    "log_progress('Load to database')\n",
    "load_to_db(df)\n",
    "log_progress('--_____END_____--')"
   ]
  },
  {
   "cell_type": "code",
   "execution_count": 150,
   "id": "654b8716",
   "metadata": {},
   "outputs": [
    {
     "name": "stdout",
     "output_type": "stream",
     "text": [
      "{'JPMorgan Chase': 346.34, 'Bank of America': 185.22, 'Industrial and Commercial Bank of China': 155.65, 'Agricultural Bank of China': 128.54, 'HDFC Bank': 126.33, 'Wells Fargo': 124.7, 'HSBC Holdings PLC': 119.12, 'Morgan Stanley': 112.66, 'China Construction Bank': 111.86, 'Bank of China': 109.45}\n"
     ]
    }
   ],
   "source": [
    "q0 = \"select `Bank name` , `Market cap in GBP` as MC_GBP_Billion from Largest_banks \"\n",
    "q1 = \"select `Bank name` , `Market cap in EUR` as MC_EUR_Billion from Largest_banks \"\n",
    "q2 = \"select `Bank name` , `Market cap in INR` as MC_INR_Billion from Largest_banks \"\n",
    "print(run_query(q0 , conn) , end='\\n')"
   ]
  },
  {
   "cell_type": "code",
   "execution_count": 151,
   "id": "ca8b3a0a",
   "metadata": {},
   "outputs": [
    {
     "name": "stdout",
     "output_type": "stream",
     "text": [
      "{'JPMorgan Chase': 402.62, 'Bank of America': 215.31, 'Industrial and Commercial Bank of China': 180.94, 'Agricultural Bank of China': 149.43, 'HDFC Bank': 146.86, 'Wells Fargo': 144.96, 'HSBC Holdings PLC': 138.48, 'Morgan Stanley': 130.97, 'China Construction Bank': 130.03, 'Bank of China': 127.23}\n"
     ]
    }
   ],
   "source": [
    "print(run_query(q1 , conn) , end='\\n')\n"
   ]
  },
  {
   "cell_type": "code",
   "execution_count": 152,
   "id": "d3036c5e",
   "metadata": {},
   "outputs": [
    {
     "name": "stdout",
     "output_type": "stream",
     "text": [
      "{'JPMorgan Chase': 35910.71, 'Bank of America': 19204.58, 'Industrial and Commercial Bank of China': 16138.75, 'Agricultural Bank of China': 13328.41, 'HDFC Bank': 13098.63, 'Wells Fargo': 12929.42, 'HSBC Holdings PLC': 12351.26, 'Morgan Stanley': 11681.85, 'China Construction Bank': 11598.07, 'Bank of China': 11348.39}\n"
     ]
    }
   ],
   "source": [
    "print(run_query(q2 , conn), end='\\n')"
   ]
  },
  {
   "cell_type": "code",
   "execution_count": 153,
   "id": "4758fdfe",
   "metadata": {},
   "outputs": [],
   "source": [
    "conn.close()"
   ]
  }
 ],
 "metadata": {
  "kernelspec": {
   "display_name": "Python 3 (ipykernel)",
   "language": "python",
   "name": "python3"
  },
  "language_info": {
   "codemirror_mode": {
    "name": "ipython",
    "version": 3
   },
   "file_extension": ".py",
   "mimetype": "text/x-python",
   "name": "python",
   "nbconvert_exporter": "python",
   "pygments_lexer": "ipython3",
   "version": "3.11.5"
  }
 },
 "nbformat": 4,
 "nbformat_minor": 5
}
